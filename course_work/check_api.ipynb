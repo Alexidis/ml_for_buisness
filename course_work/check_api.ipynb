{
 "cells": [
  {
   "cell_type": "code",
   "execution_count": 1,
   "id": "071418b5",
   "metadata": {},
   "outputs": [],
   "source": [
    "import pandas as pd\n",
    "import numpy as np\n",
    "from sklearn.metrics import r2_score as r2\n",
    "from urllib import request\n",
    "import json"
   ]
  },
  {
   "cell_type": "code",
   "execution_count": 2,
   "id": "cef0fe16",
   "metadata": {},
   "outputs": [
    {
     "data": {
      "text/html": [
       "<div>\n",
       "<style scoped>\n",
       "    .dataframe tbody tr th:only-of-type {\n",
       "        vertical-align: middle;\n",
       "    }\n",
       "\n",
       "    .dataframe tbody tr th {\n",
       "        vertical-align: top;\n",
       "    }\n",
       "\n",
       "    .dataframe thead th {\n",
       "        text-align: right;\n",
       "    }\n",
       "</style>\n",
       "<table border=\"1\" class=\"dataframe\">\n",
       "  <thead>\n",
       "    <tr style=\"text-align: right;\">\n",
       "      <th></th>\n",
       "      <th>REF</th>\n",
       "      <th>Company (Manufacturer)</th>\n",
       "      <th>Company Location</th>\n",
       "      <th>Review Date</th>\n",
       "      <th>Country of Bean Origin</th>\n",
       "      <th>Specific Bean Origin or Bar Name</th>\n",
       "      <th>Cocoa Percent</th>\n",
       "      <th>Ingredients</th>\n",
       "      <th>Most Memorable Characteristics</th>\n",
       "      <th>Rating</th>\n",
       "    </tr>\n",
       "  </thead>\n",
       "  <tbody>\n",
       "    <tr>\n",
       "      <th>0</th>\n",
       "      <td>607</td>\n",
       "      <td>Soma</td>\n",
       "      <td>Canada</td>\n",
       "      <td>2010</td>\n",
       "      <td>Blend</td>\n",
       "      <td>Black Science Blend 1, DR, Ecuador, Peru</td>\n",
       "      <td>70%</td>\n",
       "      <td>3- B,S,C</td>\n",
       "      <td>complex, nut, dried fruit, earth</td>\n",
       "      <td>3.75</td>\n",
       "    </tr>\n",
       "    <tr>\n",
       "      <th>1</th>\n",
       "      <td>2362</td>\n",
       "      <td>Mellow</td>\n",
       "      <td>Denmark</td>\n",
       "      <td>2019</td>\n",
       "      <td>Dominican Republic</td>\n",
       "      <td>Oko Caribe, El Cibao, 2018 Harvest</td>\n",
       "      <td>70%</td>\n",
       "      <td>2- B,S*</td>\n",
       "      <td>dry, floral, dirty, coconut</td>\n",
       "      <td>2.75</td>\n",
       "    </tr>\n",
       "    <tr>\n",
       "      <th>2</th>\n",
       "      <td>141</td>\n",
       "      <td>Pierre Marcolini</td>\n",
       "      <td>Belgium</td>\n",
       "      <td>2007</td>\n",
       "      <td>Madagascar</td>\n",
       "      <td>Sambirano, Ambanja, Madagascar</td>\n",
       "      <td>72%</td>\n",
       "      <td>5- B,S,C,V,L</td>\n",
       "      <td>tangy, floral, spicy, cocoa</td>\n",
       "      <td>4.00</td>\n",
       "    </tr>\n",
       "  </tbody>\n",
       "</table>\n",
       "</div>"
      ],
      "text/plain": [
       "    REF Company (Manufacturer) Company Location  Review Date  \\\n",
       "0   607                   Soma           Canada         2010   \n",
       "1  2362                 Mellow          Denmark         2019   \n",
       "2   141       Pierre Marcolini          Belgium         2007   \n",
       "\n",
       "  Country of Bean Origin          Specific Bean Origin or Bar Name  \\\n",
       "0                  Blend  Black Science Blend 1, DR, Ecuador, Peru   \n",
       "1     Dominican Republic        Oko Caribe, El Cibao, 2018 Harvest   \n",
       "2             Madagascar            Sambirano, Ambanja, Madagascar   \n",
       "\n",
       "  Cocoa Percent   Ingredients    Most Memorable Characteristics  Rating  \n",
       "0           70%      3- B,S,C  complex, nut, dried fruit, earth    3.75  \n",
       "1           70%       2- B,S*       dry, floral, dirty, coconut    2.75  \n",
       "2           72%  5- B,S,C,V,L       tangy, floral, spicy, cocoa    4.00  "
      ]
     },
     "execution_count": 2,
     "metadata": {},
     "output_type": "execute_result"
    }
   ],
   "source": [
    "X_test = pd.read_csv(\"./output/X_test.csv\")\n",
    "y_test = pd.read_csv(\"./output/y_test.csv\")\n",
    "\n",
    "X_test.head(3)"
   ]
  },
  {
   "cell_type": "code",
   "execution_count": 3,
   "id": "f30b13bd",
   "metadata": {},
   "outputs": [],
   "source": [
    "def get_prediction(manufacturer, company_location, review_date, bean_origin_country, \n",
    "                   bean_origin_specific, cocoa_percent, ingredients, mem_characteristics):\n",
    "    \n",
    "    body = {\"Company (Manufacturer)\": manufacturer, \n",
    "            \"Company Location\": company_location, \n",
    "            \"Review Date\": review_date,\n",
    "            \"Country of Bean Origin\": bean_origin_country, \n",
    "            \"Specific Bean Origin or Bar Name\": bean_origin_specific,\n",
    "            \"Cocoa Percent\": cocoa_percent,\n",
    "            \"Ingredients\": ingredients, \n",
    "            \"Most Memorable Characteristics\": mem_characteristics}\n",
    "\n",
    "    myurl = \"http://localhost:8180/predict\"\n",
    "    req = request.Request(myurl)\n",
    "    req.add_header('Content-Type', 'application/json; charset=utf-8')\n",
    "    jsondata = json.dumps(body)\n",
    "    jsondataasbytes = jsondata.encode('utf-8')   # needs to be bytes\n",
    "    req.add_header('Content-Length', len(jsondataasbytes))\n",
    "    #print (jsondataasbytes)\n",
    "    response = request.urlopen(req, jsondataasbytes)\n",
    "    res = json.loads(response.read())\n",
    "    if res.get('predictions', None) is not None:\n",
    "        return res['predictions']\n",
    "    else:\n",
    "        return 0"
   ]
  },
  {
   "cell_type": "code",
   "execution_count": 4,
   "id": "abbb1423",
   "metadata": {},
   "outputs": [
    {
     "name": "stdout",
     "output_type": "stream",
     "text": [
      "Wall time: 4.97 s\n"
     ]
    }
   ],
   "source": [
    "%%time\n",
    "sample_count = 50\n",
    "predictions = X_test[['Company (Manufacturer)', 'Company Location', 'Review Date',\n",
    "                      'Country of Bean Origin', 'Specific Bean Origin or Bar Name',\n",
    "                      'Cocoa Percent', 'Ingredients', 'Most Memorable Characteristics']].\\\n",
    "              iloc[:sample_count].apply(lambda x: get_prediction(x[0], x[1], x[2],\n",
    "                                                      x[3], x[4],\n",
    "                                                      x[5], x[6], x[7]), 1)"
   ]
  },
  {
   "cell_type": "code",
   "execution_count": 5,
   "id": "cbf43e38",
   "metadata": {},
   "outputs": [
    {
     "name": "stdout",
     "output_type": "stream",
     "text": [
      "Train R2:\t 0.181\n",
      "\n"
     ]
    }
   ],
   "source": [
    "print(f\"Train R2:\\t {r2(y_test[:sample_count], predictions):.3}\\n\")"
   ]
  }
 ],
 "metadata": {
  "kernelspec": {
   "display_name": "Python 3",
   "language": "python",
   "name": "python3"
  },
  "language_info": {
   "codemirror_mode": {
    "name": "ipython",
    "version": 3
   },
   "file_extension": ".py",
   "mimetype": "text/x-python",
   "name": "python",
   "nbconvert_exporter": "python",
   "pygments_lexer": "ipython3",
   "version": "3.8.6"
  },
  "varInspector": {
   "cols": {
    "lenName": 16,
    "lenType": 16,
    "lenVar": 40
   },
   "kernels_config": {
    "python": {
     "delete_cmd_postfix": "",
     "delete_cmd_prefix": "del ",
     "library": "var_list.py",
     "varRefreshCmd": "print(var_dic_list())"
    },
    "r": {
     "delete_cmd_postfix": ") ",
     "delete_cmd_prefix": "rm(",
     "library": "var_list.r",
     "varRefreshCmd": "cat(var_dic_list()) "
    }
   },
   "types_to_exclude": [
    "module",
    "function",
    "builtin_function_or_method",
    "instance",
    "_Feature"
   ],
   "window_display": false
  }
 },
 "nbformat": 4,
 "nbformat_minor": 5
}
