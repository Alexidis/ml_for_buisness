{
 "cells": [
  {
   "cell_type": "code",
   "execution_count": 1,
   "id": "e53ffc82",
   "metadata": {},
   "outputs": [],
   "source": [
    "import pandas as pd\n",
    "import dill\n",
    "import numpy as np\n",
    "from sklearn.ensemble import RandomForestRegressor\n",
    "from sklearn.model_selection import train_test_split\n",
    "from sklearn.base import BaseEstimator, TransformerMixin\n",
    "\n",
    "#working with text\n",
    "from sklearn.feature_extraction.text import TfidfVectorizer\n",
    "#pipeline\n",
    "from sklearn.pipeline import Pipeline, FeatureUnion"
   ]
  },
  {
   "cell_type": "code",
   "execution_count": 2,
   "id": "406af5b6",
   "metadata": {},
   "outputs": [
    {
     "data": {
      "text/html": [
       "<div>\n",
       "<style scoped>\n",
       "    .dataframe tbody tr th:only-of-type {\n",
       "        vertical-align: middle;\n",
       "    }\n",
       "\n",
       "    .dataframe tbody tr th {\n",
       "        vertical-align: top;\n",
       "    }\n",
       "\n",
       "    .dataframe thead th {\n",
       "        text-align: right;\n",
       "    }\n",
       "</style>\n",
       "<table border=\"1\" class=\"dataframe\">\n",
       "  <thead>\n",
       "    <tr style=\"text-align: right;\">\n",
       "      <th></th>\n",
       "      <th>REF</th>\n",
       "      <th>Company (Manufacturer)</th>\n",
       "      <th>Company Location</th>\n",
       "      <th>Review Date</th>\n",
       "      <th>Country of Bean Origin</th>\n",
       "      <th>Specific Bean Origin or Bar Name</th>\n",
       "      <th>Cocoa Percent</th>\n",
       "      <th>Ingredients</th>\n",
       "      <th>Most Memorable Characteristics</th>\n",
       "      <th>Rating</th>\n",
       "    </tr>\n",
       "  </thead>\n",
       "  <tbody>\n",
       "    <tr>\n",
       "      <th>0</th>\n",
       "      <td>2454</td>\n",
       "      <td>5150</td>\n",
       "      <td>U.S.A.</td>\n",
       "      <td>2019</td>\n",
       "      <td>Tanzania</td>\n",
       "      <td>Kokoa Kamili, batch 1</td>\n",
       "      <td>76%</td>\n",
       "      <td>3- B,S,C</td>\n",
       "      <td>rich cocoa, fatty, bready</td>\n",
       "      <td>3.25</td>\n",
       "    </tr>\n",
       "    <tr>\n",
       "      <th>1</th>\n",
       "      <td>2458</td>\n",
       "      <td>5150</td>\n",
       "      <td>U.S.A.</td>\n",
       "      <td>2019</td>\n",
       "      <td>Dominican Republic</td>\n",
       "      <td>Zorzal, batch 1</td>\n",
       "      <td>76%</td>\n",
       "      <td>3- B,S,C</td>\n",
       "      <td>cocoa, vegetal, savory</td>\n",
       "      <td>3.50</td>\n",
       "    </tr>\n",
       "    <tr>\n",
       "      <th>2</th>\n",
       "      <td>2454</td>\n",
       "      <td>5150</td>\n",
       "      <td>U.S.A.</td>\n",
       "      <td>2019</td>\n",
       "      <td>Madagascar</td>\n",
       "      <td>Bejofo Estate, batch 1</td>\n",
       "      <td>76%</td>\n",
       "      <td>3- B,S,C</td>\n",
       "      <td>cocoa, blackberry, full body</td>\n",
       "      <td>3.75</td>\n",
       "    </tr>\n",
       "    <tr>\n",
       "      <th>3</th>\n",
       "      <td>2542</td>\n",
       "      <td>5150</td>\n",
       "      <td>U.S.A.</td>\n",
       "      <td>2021</td>\n",
       "      <td>Fiji</td>\n",
       "      <td>Matasawalevu, batch 1</td>\n",
       "      <td>68%</td>\n",
       "      <td>3- B,S,C</td>\n",
       "      <td>chewy, off, rubbery</td>\n",
       "      <td>3.00</td>\n",
       "    </tr>\n",
       "    <tr>\n",
       "      <th>4</th>\n",
       "      <td>2546</td>\n",
       "      <td>5150</td>\n",
       "      <td>U.S.A.</td>\n",
       "      <td>2021</td>\n",
       "      <td>Venezuela</td>\n",
       "      <td>Sur del Lago, batch 1</td>\n",
       "      <td>72%</td>\n",
       "      <td>3- B,S,C</td>\n",
       "      <td>fatty, earthy, moss, nutty,chalky</td>\n",
       "      <td>3.00</td>\n",
       "    </tr>\n",
       "    <tr>\n",
       "      <th>5</th>\n",
       "      <td>2546</td>\n",
       "      <td>5150</td>\n",
       "      <td>U.S.A.</td>\n",
       "      <td>2021</td>\n",
       "      <td>Uganda</td>\n",
       "      <td>Semuliki Forest, batch 1</td>\n",
       "      <td>80%</td>\n",
       "      <td>3- B,S,C</td>\n",
       "      <td>mildly bitter, basic cocoa, fatty</td>\n",
       "      <td>3.25</td>\n",
       "    </tr>\n",
       "  </tbody>\n",
       "</table>\n",
       "</div>"
      ],
      "text/plain": [
       "    REF Company (Manufacturer) Company Location  Review Date  \\\n",
       "0  2454                   5150           U.S.A.         2019   \n",
       "1  2458                   5150           U.S.A.         2019   \n",
       "2  2454                   5150           U.S.A.         2019   \n",
       "3  2542                   5150           U.S.A.         2021   \n",
       "4  2546                   5150           U.S.A.         2021   \n",
       "5  2546                   5150           U.S.A.         2021   \n",
       "\n",
       "  Country of Bean Origin Specific Bean Origin or Bar Name Cocoa Percent  \\\n",
       "0               Tanzania            Kokoa Kamili, batch 1           76%   \n",
       "1     Dominican Republic                  Zorzal, batch 1           76%   \n",
       "2             Madagascar           Bejofo Estate, batch 1           76%   \n",
       "3                   Fiji            Matasawalevu, batch 1           68%   \n",
       "4              Venezuela            Sur del Lago, batch 1           72%   \n",
       "5                 Uganda         Semuliki Forest, batch 1           80%   \n",
       "\n",
       "  Ingredients     Most Memorable Characteristics  Rating  \n",
       "0    3- B,S,C          rich cocoa, fatty, bready    3.25  \n",
       "1    3- B,S,C             cocoa, vegetal, savory    3.50  \n",
       "2    3- B,S,C       cocoa, blackberry, full body    3.75  \n",
       "3    3- B,S,C                chewy, off, rubbery    3.00  \n",
       "4    3- B,S,C  fatty, earthy, moss, nutty,chalky    3.00  \n",
       "5    3- B,S,C  mildly bitter, basic cocoa, fatty    3.25  "
      ]
     },
     "execution_count": 2,
     "metadata": {},
     "output_type": "execute_result"
    }
   ],
   "source": [
    "choc_ratings_df = pd.read_csv('./input/chocolate_ratings.csv')\n",
    "\n",
    "target = choc_ratings_df['Rating']\n",
    "choc_ratings_df.head(6)"
   ]
  },
  {
   "cell_type": "code",
   "execution_count": 3,
   "id": "cf90bfb5",
   "metadata": {},
   "outputs": [
    {
     "data": {
      "text/plain": [
       "(2530, 10)"
      ]
     },
     "execution_count": 3,
     "metadata": {},
     "output_type": "execute_result"
    }
   ],
   "source": [
    "choc_ratings_df.shape"
   ]
  },
  {
   "cell_type": "code",
   "execution_count": 4,
   "id": "d7b1fb21",
   "metadata": {},
   "outputs": [
    {
     "name": "stdout",
     "output_type": "stream",
     "text": [
      "<class 'pandas.core.frame.DataFrame'>\n",
      "RangeIndex: 2530 entries, 0 to 2529\n",
      "Data columns (total 10 columns):\n",
      " #   Column                            Non-Null Count  Dtype  \n",
      "---  ------                            --------------  -----  \n",
      " 0   REF                               2530 non-null   int64  \n",
      " 1   Company (Manufacturer)            2530 non-null   object \n",
      " 2   Company Location                  2530 non-null   object \n",
      " 3   Review Date                       2530 non-null   int64  \n",
      " 4   Country of Bean Origin            2530 non-null   object \n",
      " 5   Specific Bean Origin or Bar Name  2530 non-null   object \n",
      " 6   Cocoa Percent                     2530 non-null   object \n",
      " 7   Ingredients                       2443 non-null   object \n",
      " 8   Most Memorable Characteristics    2530 non-null   object \n",
      " 9   Rating                            2530 non-null   float64\n",
      "dtypes: float64(1), int64(2), object(7)\n",
      "memory usage: 197.8+ KB\n"
     ]
    }
   ],
   "source": [
    "choc_ratings_df.info()"
   ]
  },
  {
   "cell_type": "code",
   "execution_count": 5,
   "id": "5a12874d",
   "metadata": {},
   "outputs": [],
   "source": [
    "X_train, X_test, y_train, y_test = train_test_split(choc_ratings_df, \n",
    "                                                    target, test_size=0.33, random_state=6)\n",
    "#save test\n",
    "X_test.to_csv(\"./output/X_test.csv\", index=None)\n",
    "y_test.to_csv(\"./output/y_test.csv\", index=None)\n",
    "#save train\n",
    "X_train.to_csv(\"./output/X_train.csv\", index=None)\n",
    "y_train.to_csv(\"./output/y_train.csv\", index=None)"
   ]
  },
  {
   "cell_type": "code",
   "execution_count": 6,
   "id": "d2039c0c",
   "metadata": {},
   "outputs": [],
   "source": [
    "cat_columns = ['Company (Manufacturer)', 'Company Location', 'Country of Bean Origin',\n",
    "               'Specific Bean Origin or Bar Name']\n",
    "# переводим категориальные признаки в числовые\n",
    "for cat_col in cat_columns:\n",
    "    indexing_data = choc_ratings_df[cat_col].unique()\n",
    "    file_path = f\"./cat_index/'{cat_col}'.csv\"\n",
    "    indexing_df = pd.DataFrame(indexing_data, columns=[cat_col])\n",
    "    indexing_df[cat_col + '_idx'] = indexing_df.index\n",
    "    indexing_df.to_csv(file_path, index=False)"
   ]
  },
  {
   "cell_type": "code",
   "execution_count": 7,
   "id": "983d4bb5",
   "metadata": {},
   "outputs": [],
   "source": [
    "class DataPreprocessing(BaseEstimator, TransformerMixin):\n",
    "     def __init__(self):\n",
    "        self.cat_columns = ['Company (Manufacturer)', 'Company Location', 'Country of Bean Origin',\n",
    "                            'Specific Bean Origin or Bar Name']\n",
    "        self.num_columns = ['Cocoa Percent', 'Review Date']\n",
    "\n",
    "     def fit(self, X, y=None):\n",
    "        return self\n",
    "\n",
    "     def transform(self, X):\n",
    "        X_ = X.copy()\n",
    "        # заполняем пропуски в текстовых колонках\n",
    "        text_columns = self.cat_columns + ['Cocoa Percent']\n",
    "        X_[text_columns] = X_[text_columns].fillna('')\n",
    "        # переводим стобец в число убирая знак %\n",
    "        X_['Cocoa Percent'] = pd.to_numeric(X_['Cocoa Percent'].apply(lambda x: x.rstrip('%')))\n",
    "    \n",
    "        return X_"
   ]
  },
  {
   "cell_type": "code",
   "execution_count": 8,
   "id": "cbdd4a0d",
   "metadata": {},
   "outputs": [],
   "source": [
    "class FeatureGenetator(BaseEstimator, TransformerMixin):\n",
    "    def __init__(self):\n",
    "        self.cat_columns = ['Company (Manufacturer)', 'Company Location', 'Country of Bean Origin',\n",
    "                            'Specific Bean Origin or Bar Name']\n",
    "        self.num_columns = ['Cocoa Percent', 'Review Date']\n",
    "        self.ptn = {'Bean Origin Unknown': None,\n",
    "                    'Bean Bar Unknown': None}\n",
    "        self.all_columns = []\n",
    "\n",
    "    def fit(self, X, y=None):\n",
    "        return self\n",
    "    \n",
    "    # создаем бинарные признаки\n",
    "    def binarizer(self, X):\n",
    "        self.ptn['Bean Origin Unknown'] = (X['Country of Bean Origin'].str.contains('Blend')) | \\\n",
    "                                          (X['Country of Bean Origin'].str.len == 0)\n",
    "        self.ptn['Bean Bar Unknown'] = X['Specific Bean Origin or Bar Name'] == X['Country of Bean Origin']\n",
    "        for bin_col, pattern in self.ptn.items():\n",
    "            self.all_columns.append(bin_col)\n",
    "            X[bin_col] = 0.0\n",
    "            X.loc[pattern, bin_col] = 1.0\n",
    "\n",
    "    # создаем категориальные признаки (их надо время от времени обновлять)\n",
    "    def categorizer(self, X):\n",
    "        X_ = X\n",
    "        for cat_col in self.cat_columns:\n",
    "            cat_file_path = f\"./cat_index/'{cat_col}'.csv\"\n",
    "            cat_df = pd.read_csv(cat_file_path) \n",
    "            X_ = X_.merge(cat_df, how='left', on=cat_col)\n",
    "            idx_col = cat_col + '_idx'\n",
    "            self.all_columns.append(idx_col)\n",
    "            X_[idx_col].fillna(-1, inplace=True)\n",
    "        return X_\n",
    "\n",
    "    def transform(self, X):\n",
    "        X_ = X.copy()\n",
    "        self.all_columns = []\n",
    "\n",
    "        self.binarizer(X_)\n",
    "        new_df = self.categorizer(X_)\n",
    "        self.all_columns.extend(self.num_columns)\n",
    "        \n",
    "        return new_df[self.all_columns]"
   ]
  },
  {
   "cell_type": "code",
   "execution_count": 9,
   "id": "9146685b",
   "metadata": {},
   "outputs": [],
   "source": [
    "# классы для tfidf признаков\n",
    "class FeatureSelector(BaseEstimator, TransformerMixin):\n",
    "    def __init__(self, column):\n",
    "        self.column = column\n",
    "\n",
    "    def fit(self, X, y=None):\n",
    "        return self\n",
    "\n",
    "    def transform(self, X, y=None):\n",
    "        return X[self.column]\n",
    "    \n",
    "class TextImputer(BaseEstimator, TransformerMixin):\n",
    "    def __init__(self, key, value):\n",
    "        self.key = key\n",
    "        self.value = value\n",
    "    def fit(self, X, y=None):\n",
    "        return self\n",
    "    def transform(self, X):\n",
    "        X[self.key] = X[self.key].fillna(self.value)\n",
    "        return X"
   ]
  },
  {
   "cell_type": "code",
   "execution_count": 10,
   "id": "347df5c2",
   "metadata": {},
   "outputs": [],
   "source": [
    "pipes = []\n",
    "\n",
    "pipes.append(('common_feats', \n",
    "              Pipeline([('preproc', DataPreprocessing()),\n",
    "                        ('features_gen', FeatureGenetator())])\n",
    "             ))\n",
    "pipes.append(('memory_feat', \n",
    "              Pipeline([('imputer', TextImputer('Most Memorable Characteristics', '')),\n",
    "                        ('memory_selector', FeatureSelector(column='Most Memorable Characteristics')), \n",
    "                        ('memory_tfidf', TfidfVectorizer())])\n",
    "             ))\n",
    "pipes.append(('ingredients_feat', \n",
    "              Pipeline([('imputer', TextImputer('Ingredients', '')),\n",
    "                        ('ingredients_selector', FeatureSelector(column='Ingredients')), \n",
    "                        ('ingredients_tfidf', TfidfVectorizer())])\n",
    "             ))\n",
    "\n",
    "feats = FeatureUnion(pipes)"
   ]
  },
  {
   "cell_type": "code",
   "execution_count": 11,
   "id": "5a213138",
   "metadata": {},
   "outputs": [
    {
     "name": "stdout",
     "output_type": "stream",
     "text": [
      "Object `GradientBoostingRegressor` not found.\n"
     ]
    }
   ],
   "source": [
    "?GradientBoostingRegressor"
   ]
  },
  {
   "cell_type": "code",
   "execution_count": 12,
   "id": "1af6f155",
   "metadata": {},
   "outputs": [],
   "source": [
    "model = RandomForestRegressor(min_samples_split = 20, \n",
    "                                 max_depth=41,\n",
    "                                 n_estimators=600, \n",
    "                                 min_samples_leaf=2,\n",
    "                                 min_weight_fraction_leaf=0.005, \n",
    "                                 random_state=23)\n"
   ]
  },
  {
   "cell_type": "code",
   "execution_count": 13,
   "id": "eb538061",
   "metadata": {},
   "outputs": [],
   "source": [
    "pipeline = Pipeline([\n",
    "    ('features_gen', feats),\n",
    "    ('regressor', model)\n",
    "])"
   ]
  },
  {
   "cell_type": "code",
   "execution_count": 14,
   "id": "76d35fd8",
   "metadata": {},
   "outputs": [
    {
     "data": {
      "text/plain": [
       "Pipeline(steps=[('features_gen',\n",
       "                 FeatureUnion(transformer_list=[('common_feats',\n",
       "                                                 Pipeline(steps=[('preproc',\n",
       "                                                                  DataPreprocessing()),\n",
       "                                                                 ('features_gen',\n",
       "                                                                  FeatureGenetator())])),\n",
       "                                                ('memory_feat',\n",
       "                                                 Pipeline(steps=[('imputer',\n",
       "                                                                  TextImputer(key='Most '\n",
       "                                                                                  'Memorable '\n",
       "                                                                                  'Characteristics',\n",
       "                                                                              value='')),\n",
       "                                                                 ('memory_selector',\n",
       "                                                                  FeatureSelector(column='Most '\n",
       "                                                                                         'Memorable '\n",
       "                                                                                         'Characteristics')),\n",
       "                                                                 (...\n",
       "                                                ('ingredients_feat',\n",
       "                                                 Pipeline(steps=[('imputer',\n",
       "                                                                  TextImputer(key='Ingredients',\n",
       "                                                                              value='')),\n",
       "                                                                 ('ingredients_selector',\n",
       "                                                                  FeatureSelector(column='Ingredients')),\n",
       "                                                                 ('ingredients_tfidf',\n",
       "                                                                  TfidfVectorizer())]))])),\n",
       "                ('regressor',\n",
       "                 RandomForestRegressor(max_depth=41, min_samples_leaf=2,\n",
       "                                       min_samples_split=20,\n",
       "                                       min_weight_fraction_leaf=0.005,\n",
       "                                       n_estimators=600, random_state=23))])"
      ]
     },
     "execution_count": 14,
     "metadata": {},
     "output_type": "execute_result"
    }
   ],
   "source": [
    "pipeline.fit(X_train, y_train)"
   ]
  },
  {
   "cell_type": "code",
   "execution_count": 15,
   "id": "003d0180",
   "metadata": {},
   "outputs": [],
   "source": [
    "with open(\"./output/choco_pipeline.dill\", \"wb\") as f:\n",
    "    dill.dump(pipeline, f)"
   ]
  },
  {
   "cell_type": "code",
   "execution_count": 16,
   "id": "6a529dd3",
   "metadata": {},
   "outputs": [
    {
     "name": "stdout",
     "output_type": "stream",
     "text": [
      "Train R2:\t 0.315\n",
      "\n"
     ]
    }
   ],
   "source": [
    "from sklearn.metrics import r2_score as r2\n",
    "\n",
    "predictions = pipeline.predict(X_test)\n",
    "print(f\"Train R2:\\t {r2(y_test, predictions):.3}\\n\")"
   ]
  }
 ],
 "metadata": {
  "kernelspec": {
   "display_name": "Python 3",
   "language": "python",
   "name": "python3"
  },
  "language_info": {
   "codemirror_mode": {
    "name": "ipython",
    "version": 3
   },
   "file_extension": ".py",
   "mimetype": "text/x-python",
   "name": "python",
   "nbconvert_exporter": "python",
   "pygments_lexer": "ipython3",
   "version": "3.8.6"
  },
  "varInspector": {
   "cols": {
    "lenName": 16,
    "lenType": 16,
    "lenVar": 40
   },
   "kernels_config": {
    "python": {
     "delete_cmd_postfix": "",
     "delete_cmd_prefix": "del ",
     "library": "var_list.py",
     "varRefreshCmd": "print(var_dic_list())"
    },
    "r": {
     "delete_cmd_postfix": ") ",
     "delete_cmd_prefix": "rm(",
     "library": "var_list.r",
     "varRefreshCmd": "cat(var_dic_list()) "
    }
   },
   "types_to_exclude": [
    "module",
    "function",
    "builtin_function_or_method",
    "instance",
    "_Feature"
   ],
   "window_display": false
  }
 },
 "nbformat": 4,
 "nbformat_minor": 5
}
