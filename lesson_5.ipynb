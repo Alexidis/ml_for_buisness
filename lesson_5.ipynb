{
 "cells": [
  {
   "cell_type": "code",
   "execution_count": 1,
   "id": "b5daf72f",
   "metadata": {},
   "outputs": [],
   "source": [
    "import pandas as pd\n",
    "import numpy as np\n",
    "from sklearn.linear_model import LogisticRegression\n",
    "from sklearn.ensemble import GradientBoostingClassifier\n",
    "from sklearn.preprocessing import StandardScaler\n",
    "from sklearn.base import BaseEstimator, TransformerMixin\n",
    "from sklearn.model_selection import GridSearchCV, train_test_split\n",
    "from sklearn.metrics import classification_report, precision_recall_curve, confusion_matrix\n",
    "from sklearn.pipeline import Pipeline, FeatureUnion\n",
    "import random\n",
    "\n",
    "random.seed(666)\n",
    "import warnings\n",
    "\n",
    "warnings.filterwarnings(\"ignore\", category=DeprecationWarning)"
   ]
  },
  {
   "cell_type": "markdown",
   "id": "c071f257",
   "metadata": {},
   "source": [
    "### Задание\n",
    "1. Для нашего пайплайна (Case1) поэкспериментировать с разными моделями:  \n",
    "    1. бустинг   \n",
    "    2. логистическая регрессия (не забудьте здесь добавить в cont_transformer стандартизацию - нормирование вещественных признаков)  \n",
    "\n",
    "2. Отобрать лучшую модель по метрикам (кстати, какая по вашему мнению здесь наиболее подходящая DS-метрика)  \n",
    "3. Для отобранной модели (на отложенной выборке) сделать оценку экономической эффективности при тех же вводных, как в вопросе 2 (1 доллар на привлечение, 2 доллара - с каждого правильно классифицированного (True Positive) удержанного).  \n",
    "Нужно посчитать FP/TP/FN/TN для выбранного оптимального порога вероятности и посчитать выручку и траты."
   ]
  },
  {
   "cell_type": "code",
   "execution_count": 2,
   "id": "9f40c987",
   "metadata": {
    "code_folding": []
   },
   "outputs": [],
   "source": [
    "#соберем наш простой pipeline, но нам понадобится написать класс для выбора нужного поля\n",
    "class FeatureSelector(BaseEstimator, TransformerMixin):\n",
    "    def __init__(self, column):\n",
    "        self.column = column\n",
    "\n",
    "    def fit(self, X, y=None):\n",
    "        return self\n",
    "\n",
    "    def transform(self, X, y=None):\n",
    "        return X[self.column]\n",
    "    \n",
    "class NumberSelector(BaseEstimator, TransformerMixin):\n",
    "    \"\"\"\n",
    "    Transformer to select a single column from the data frame to perform additional transformations on\n",
    "    Use on numeric columns in the data\n",
    "    \"\"\"\n",
    "    def __init__(self, key):\n",
    "        self.key = key\n",
    "\n",
    "    def fit(self, X, y=None):\n",
    "        return self\n",
    "\n",
    "    def transform(self, X):\n",
    "        return X[[self.key]]\n",
    "    \n",
    "class OHEEncoder(BaseEstimator, TransformerMixin):\n",
    "    def __init__(self, key):\n",
    "        self.key = key\n",
    "        self.columns = []\n",
    "\n",
    "    def fit(self, X, y=None):\n",
    "        self.columns = [col for col in pd.get_dummies(X, prefix=self.key).columns]\n",
    "        return self\n",
    "\n",
    "    def transform(self, X):\n",
    "        X = pd.get_dummies(X, prefix=self.key)\n",
    "        test_columns = [col for col in X.columns]\n",
    "        for col_ in self.columns:\n",
    "            if col_ not in test_columns:\n",
    "                X[col_] = 0\n",
    "        return X[self.columns]"
   ]
  },
  {
   "cell_type": "code",
   "execution_count": 3,
   "id": "a9060b3c",
   "metadata": {
    "code_folding": []
   },
   "outputs": [],
   "source": [
    "def feature_processing(cat_cols, cont_cols, need_std=False):\n",
    "    final_transformers = list()\n",
    "\n",
    "    for cat_col in cat_cols:\n",
    "        cat_transformer = Pipeline([\n",
    "                    ('selector', FeatureSelector(column=cat_col)),\n",
    "                    ('ohe', OHEEncoder(key=cat_col))\n",
    "                ])\n",
    "        final_transformers.append((cat_col, cat_transformer))\n",
    "\n",
    "    for cont_col in cont_cols:\n",
    "        pipes = [('selector', NumberSelector(key=cont_col))]\n",
    "        # Добавляем нормализацю при необходимости\n",
    "        if need_std:\n",
    "            pipes.append(('standard', StandardScaler()))\n",
    "            \n",
    "        cont_transformer = Pipeline(pipes)\n",
    "        final_transformers.append((cont_col, cont_transformer))\n",
    "    feats = FeatureUnion(final_transformers)\n",
    "    return feats"
   ]
  },
  {
   "cell_type": "code",
   "execution_count": 4,
   "id": "acc40006",
   "metadata": {},
   "outputs": [],
   "source": [
    "def make_preds(train_x, train_y, test_x, model, features_pipe):\n",
    "    pipeline = Pipeline([\n",
    "        ('features',features_pipe),\n",
    "        ('classifier', model)\n",
    "    ])\n",
    "\n",
    "    #обучим наш пайплайн\n",
    "    pipeline.fit(train_x, train_y)\n",
    "    #наши прогнозы для тестовой выборки\n",
    "    preds = pipeline.predict_proba(test_x)[:, 1]\n",
    "    return preds"
   ]
  },
  {
   "cell_type": "code",
   "execution_count": 5,
   "id": "a3b0e3fb",
   "metadata": {},
   "outputs": [],
   "source": [
    "def get_scores(p, test_y):\n",
    "    precision, recall, thresholds = precision_recall_curve(test_y, p)\n",
    "\n",
    "    fscore = (2 * precision * recall) / (precision + recall)\n",
    "    # locate the index of the largest f score\n",
    "    ix = np.argmax(fscore)\n",
    "    tn, fp, fn, tp = confusion_matrix(y_test, p>thresholds[ix]).ravel()\n",
    "    \n",
    "    scores = {\n",
    "        'Threshold': thresholds[ix],\n",
    "        'F-Score': fscore[ix],\n",
    "        'Precision': precision[ix],\n",
    "        'Recall': recall[ix],\n",
    "        'true_positive': tp,\n",
    "        'false_positive': fp,\n",
    "        'true_negative': tn,\n",
    "        'false_negative': fn\n",
    "    }\n",
    "\n",
    "    return scores "
   ]
  },
  {
   "cell_type": "code",
   "execution_count": 6,
   "id": "dadc8e01",
   "metadata": {},
   "outputs": [
    {
     "data": {
      "text/html": [
       "<div>\n",
       "<style scoped>\n",
       "    .dataframe tbody tr th:only-of-type {\n",
       "        vertical-align: middle;\n",
       "    }\n",
       "\n",
       "    .dataframe tbody tr th {\n",
       "        vertical-align: top;\n",
       "    }\n",
       "\n",
       "    .dataframe thead th {\n",
       "        text-align: right;\n",
       "    }\n",
       "</style>\n",
       "<table border=\"1\" class=\"dataframe\">\n",
       "  <thead>\n",
       "    <tr style=\"text-align: right;\">\n",
       "      <th></th>\n",
       "      <th>RowNumber</th>\n",
       "      <th>CustomerId</th>\n",
       "      <th>Surname</th>\n",
       "      <th>CreditScore</th>\n",
       "      <th>Geography</th>\n",
       "      <th>Gender</th>\n",
       "      <th>Age</th>\n",
       "      <th>Tenure</th>\n",
       "      <th>Balance</th>\n",
       "      <th>NumOfProducts</th>\n",
       "      <th>HasCrCard</th>\n",
       "      <th>IsActiveMember</th>\n",
       "      <th>EstimatedSalary</th>\n",
       "      <th>Exited</th>\n",
       "    </tr>\n",
       "  </thead>\n",
       "  <tbody>\n",
       "    <tr>\n",
       "      <th>0</th>\n",
       "      <td>1</td>\n",
       "      <td>15634602</td>\n",
       "      <td>Hargrave</td>\n",
       "      <td>619</td>\n",
       "      <td>France</td>\n",
       "      <td>Female</td>\n",
       "      <td>42</td>\n",
       "      <td>2</td>\n",
       "      <td>0.00</td>\n",
       "      <td>1</td>\n",
       "      <td>1</td>\n",
       "      <td>1</td>\n",
       "      <td>101348.88</td>\n",
       "      <td>1</td>\n",
       "    </tr>\n",
       "    <tr>\n",
       "      <th>1</th>\n",
       "      <td>2</td>\n",
       "      <td>15647311</td>\n",
       "      <td>Hill</td>\n",
       "      <td>608</td>\n",
       "      <td>Spain</td>\n",
       "      <td>Female</td>\n",
       "      <td>41</td>\n",
       "      <td>1</td>\n",
       "      <td>83807.86</td>\n",
       "      <td>1</td>\n",
       "      <td>0</td>\n",
       "      <td>1</td>\n",
       "      <td>112542.58</td>\n",
       "      <td>0</td>\n",
       "    </tr>\n",
       "    <tr>\n",
       "      <th>2</th>\n",
       "      <td>3</td>\n",
       "      <td>15619304</td>\n",
       "      <td>Onio</td>\n",
       "      <td>502</td>\n",
       "      <td>France</td>\n",
       "      <td>Female</td>\n",
       "      <td>42</td>\n",
       "      <td>8</td>\n",
       "      <td>159660.80</td>\n",
       "      <td>3</td>\n",
       "      <td>1</td>\n",
       "      <td>0</td>\n",
       "      <td>113931.57</td>\n",
       "      <td>1</td>\n",
       "    </tr>\n",
       "  </tbody>\n",
       "</table>\n",
       "</div>"
      ],
      "text/plain": [
       "   RowNumber  CustomerId   Surname  CreditScore Geography  Gender  Age  \\\n",
       "0          1    15634602  Hargrave          619    France  Female   42   \n",
       "1          2    15647311      Hill          608     Spain  Female   41   \n",
       "2          3    15619304      Onio          502    France  Female   42   \n",
       "\n",
       "   Tenure    Balance  NumOfProducts  HasCrCard  IsActiveMember  \\\n",
       "0       2       0.00              1          1               1   \n",
       "1       1   83807.86              1          0               1   \n",
       "2       8  159660.80              3          1               0   \n",
       "\n",
       "   EstimatedSalary  Exited  \n",
       "0        101348.88       1  \n",
       "1        112542.58       0  \n",
       "2        113931.57       1  "
      ]
     },
     "execution_count": 6,
     "metadata": {},
     "output_type": "execute_result"
    }
   ],
   "source": [
    "df = pd.read_csv(\"./input/churn_data.csv\")\n",
    "df.head(3)"
   ]
  },
  {
   "cell_type": "code",
   "execution_count": 7,
   "id": "ce90f898",
   "metadata": {},
   "outputs": [],
   "source": [
    "categorical_columns = ['Geography', 'Gender', 'Tenure', 'HasCrCard', 'IsActiveMember']\n",
    "continuous_columns = ['CreditScore', 'Age', 'Balance', 'NumOfProducts', 'EstimatedSalary']"
   ]
  },
  {
   "cell_type": "code",
   "execution_count": 8,
   "id": "9eed76bf",
   "metadata": {},
   "outputs": [],
   "source": [
    "feats = feature_processing(categorical_columns, continuous_columns)"
   ]
  },
  {
   "cell_type": "code",
   "execution_count": 9,
   "id": "ade85e98",
   "metadata": {},
   "outputs": [],
   "source": [
    "lg_feats = feature_processing(categorical_columns, continuous_columns, need_std=True)"
   ]
  },
  {
   "cell_type": "code",
   "execution_count": 10,
   "id": "535371d4",
   "metadata": {},
   "outputs": [],
   "source": [
    "#разделим данные на train/test\n",
    "X_train, X_test, y_train, y_test = train_test_split(df, df['Exited'], random_state=0)"
   ]
  },
  {
   "cell_type": "code",
   "execution_count": 11,
   "id": "9c2da136",
   "metadata": {
    "code_folding": [
     0
    ]
   },
   "outputs": [],
   "source": [
    "# %%time\n",
    "# params_est = {\n",
    "#     'loss': 'exponential',\n",
    "#     'max_features': 14,\n",
    "#     'random_state': 6\n",
    "# }\n",
    "\n",
    "# pipeline = Pipeline([\n",
    "#     ('features',feats),\n",
    "#     ('classifier', GradientBoostingClassifier(**params_est)),\n",
    "# ])\n",
    "\n",
    "# params={'classifier__n_estimators':[300, 10,  700],\n",
    "#         'classifier__learning_rate':[0.01, 0.09, 0.7],\n",
    "#         'classifier__subsample':[0.1, 1],\n",
    "#         'classifier__min_samples_leaf':[10, 100, 500]\n",
    "#         }\n",
    "\n",
    "# grid = GridSearchCV(pipeline,\n",
    "#                     param_grid=params,\n",
    "#                     cv=6,\n",
    "#                     refit=False)\n",
    "\n",
    "# search = grid.fit(X_train, y_train)\n",
    "# search.best_params_\n",
    "\n",
    "# Wall time: 5min 50s\n",
    "# {'classifier__learning_rate': 0.09,\n",
    "#  'classifier__min_samples_leaf': 10,\n",
    "#  'classifier__n_estimators': 300,\n",
    "#  'classifier__subsample': 1}"
   ]
  },
  {
   "cell_type": "code",
   "execution_count": 12,
   "id": "2d3e4823",
   "metadata": {},
   "outputs": [],
   "source": [
    "params_est = {\n",
    "    'n_estimators': 300,\n",
    "    'min_samples_leaf': 10,\n",
    "    'learning_rate': 0.09,\n",
    "    'loss': 'exponential',\n",
    "    'max_features': 14,\n",
    "    'random_state': 6\n",
    "}\n",
    "gbc = GradientBoostingClassifier(**params_est)\n"
   ]
  },
  {
   "cell_type": "code",
   "execution_count": 13,
   "id": "ad535d85",
   "metadata": {},
   "outputs": [],
   "source": [
    "gbc_preds = make_preds(X_train, y_train, X_test, gbc, feats)"
   ]
  },
  {
   "cell_type": "code",
   "execution_count": 14,
   "id": "36b2a2b6",
   "metadata": {},
   "outputs": [
    {
     "name": "stdout",
     "output_type": "stream",
     "text": [
      "Best Threshold=0.325\n",
      "     F-Score=0.638\n",
      "     Precision=0.618\n",
      "     Recall=0.660\n"
     ]
    }
   ],
   "source": [
    "gbc_scores = get_scores(gbc_preds, y_test)\n",
    "print (f\"Best Threshold={gbc_scores['Threshold']:.3f}\\n \\\n",
    "    F-Score={gbc_scores['F-Score']:.3f}\\n \\\n",
    "    Precision={gbc_scores['Precision']:.3f}\\n \\\n",
    "    Recall={gbc_scores['Recall']:.3f}\")"
   ]
  },
  {
   "cell_type": "code",
   "execution_count": 15,
   "id": "a0d50f81",
   "metadata": {},
   "outputs": [],
   "source": [
    "lg = LogisticRegression()"
   ]
  },
  {
   "cell_type": "code",
   "execution_count": 16,
   "id": "14901db6",
   "metadata": {},
   "outputs": [],
   "source": [
    "lg_preds = make_preds(X_train, y_train, X_test, lg, lg_feats)"
   ]
  },
  {
   "cell_type": "code",
   "execution_count": 17,
   "id": "6628989b",
   "metadata": {},
   "outputs": [
    {
     "name": "stdout",
     "output_type": "stream",
     "text": [
      "Best Threshold=0.290\n",
      "     F-Score=0.510\n",
      "     Precision=0.462\n",
      "     Recall=0.568\n"
     ]
    }
   ],
   "source": [
    "lg_scores = get_scores(lg_preds, y_test)\n",
    "print (f\"Best Threshold={lg_scores['Threshold']:.3f}\\n \\\n",
    "    F-Score={lg_scores['F-Score']:.3f}\\n \\\n",
    "    Precision={lg_scores['Precision']:.3f}\\n \\\n",
    "    Recall={lg_scores['Recall']:.3f}\")"
   ]
  },
  {
   "cell_type": "markdown",
   "id": "2f9aaeeb",
   "metadata": {},
   "source": [
    "Все метрики говорят в пользу GradientBoosting, но я думаю что в задаче оттока наиболее важной метрикой будет Recall, т.к. необходимо минимизировать ошибки второго рода и найти всех клиентов, которых надо удержать.\n",
    "Нельзя сказать что бы Precision, не играл важной роли, так как с низким Precision мы имеем риск трат на клиентов которые не собирались уходить."
   ]
  },
  {
   "cell_type": "code",
   "execution_count": 18,
   "id": "6ab63b17",
   "metadata": {},
   "outputs": [
    {
     "name": "stdout",
     "output_type": "stream",
     "text": [
      "     true_positive=335\n",
      "     false_positive=208\n",
      "     true_negative=1783\n",
      "     false_negative=174\n"
     ]
    }
   ],
   "source": [
    "print (f\"\\\n",
    "     true_positive={gbc_scores['true_positive']}\\n \\\n",
    "    false_positive={gbc_scores['false_positive']}\\n \\\n",
    "    true_negative={gbc_scores['true_negative']}\\n \\\n",
    "    false_negative={gbc_scores['false_negative']}\")"
   ]
  },
  {
   "cell_type": "code",
   "execution_count": 19,
   "id": "083b6188",
   "metadata": {},
   "outputs": [
    {
     "name": "stdout",
     "output_type": "stream",
     "text": [
      "Модель эффективна, экономическая эфективность составила 127.0\n"
     ]
    }
   ],
   "source": [
    "# расчитываем затраты на удержание, как цену удержания всех клиенттов которых модель посчитала уходящими\n",
    "retention_costs = (gbc_scores['true_positive'] + gbc_scores['false_positive']) * 1.0\n",
    "\n",
    "# расчитываем Ожидаемую прибыль, в расчете на каждого вовремя удержанного клиента\n",
    "expected_profit = gbc_scores['true_positive'] * 2.0\n",
    "# расчитываем общую эффективноть\n",
    "economic_efficiency = expected_profit - retention_costs\n",
    "\n",
    "if economic_efficiency > 0:\n",
    "    print(f'Модель эффективна, экономическая эфективность составила {economic_efficiency}')\n",
    "else:\n",
    "    print(f'Модель не эффективна, экономическая эфективность составила {economic_efficiency}')"
   ]
  }
 ],
 "metadata": {
  "kernelspec": {
   "display_name": "Python 3",
   "language": "python",
   "name": "python3"
  },
  "language_info": {
   "codemirror_mode": {
    "name": "ipython",
    "version": 3
   },
   "file_extension": ".py",
   "mimetype": "text/x-python",
   "name": "python",
   "nbconvert_exporter": "python",
   "pygments_lexer": "ipython3",
   "version": "3.8.6"
  },
  "varInspector": {
   "cols": {
    "lenName": 16,
    "lenType": 16,
    "lenVar": 40
   },
   "kernels_config": {
    "python": {
     "delete_cmd_postfix": "",
     "delete_cmd_prefix": "del ",
     "library": "var_list.py",
     "varRefreshCmd": "print(var_dic_list())"
    },
    "r": {
     "delete_cmd_postfix": ") ",
     "delete_cmd_prefix": "rm(",
     "library": "var_list.r",
     "varRefreshCmd": "cat(var_dic_list()) "
    }
   },
   "types_to_exclude": [
    "module",
    "function",
    "builtin_function_or_method",
    "instance",
    "_Feature"
   ],
   "window_display": false
  }
 },
 "nbformat": 4,
 "nbformat_minor": 5
}
