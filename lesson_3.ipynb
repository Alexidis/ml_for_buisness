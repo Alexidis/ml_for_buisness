{
 "cells": [
  {
   "cell_type": "code",
   "execution_count": 1,
   "id": "6638eb35",
   "metadata": {},
   "outputs": [],
   "source": [
    "import pandas as pd\n",
    "import numpy as np\n",
    "from sklearn.metrics import precision_recall_curve, roc_auc_score\n",
    "from sklearn.ensemble import GradientBoostingRegressor, RandomForestRegressor, ExtraTreesRegressor\n",
    "from sklearn.preprocessing import StandardScaler\n",
    "\n",
    "from sklearn.model_selection import cross_val_score, train_test_split\n",
    "from sklearn.pipeline import Pipeline, FeatureUnion\n",
    "from sklearn.base import BaseEstimator, TransformerMixin"
   ]
  },
  {
   "cell_type": "markdown",
   "id": "0cd371d9",
   "metadata": {},
   "source": [
    "### Задача 1\n",
    "Обучить несколько разных моделей на наборе данных ССЗ (train_case2.csv): логрег, бустинг, лес и т.д - на ваш выбор 2-3 варианта\n",
    "\n",
    "### Задача 2\n",
    "При обучении моделей обязательно использовать кроссвалидацию\n",
    "\n",
    "### Задача 3\n",
    "Вывести сравнение полученных моделей по основным метрикам классификации: pr/rec/auc/f_score (можно в виде таблицы, где строки - модели, а столбцы - метрики)"
   ]
  },
  {
   "cell_type": "code",
   "execution_count": 2,
   "id": "d980bb99",
   "metadata": {},
   "outputs": [],
   "source": [
    "class ColumnSelector(BaseEstimator, TransformerMixin):\n",
    "    \"\"\"\n",
    "    Transformer to select a single column from the data frame to perform additional transformations on\n",
    "    \"\"\"\n",
    "    def __init__(self, key):\n",
    "        self.key = key\n",
    "\n",
    "    def fit(self, X, y=None):\n",
    "        return self\n",
    "\n",
    "    def transform(self, X):\n",
    "        return X[self.key]\n",
    "    \n",
    "class NumberSelector(BaseEstimator, TransformerMixin):\n",
    "    \"\"\"\n",
    "    Transformer to select a single column from the data frame to perform additional transformations on\n",
    "    Use on numeric columns in the data\n",
    "    \"\"\"\n",
    "    def __init__(self, key):\n",
    "        self.key = key\n",
    "\n",
    "    def fit(self, X, y=None):\n",
    "        return self\n",
    "\n",
    "    def transform(self, X):\n",
    "        return X[[self.key]]\n",
    "    \n",
    "class OHEEncoder(BaseEstimator, TransformerMixin):\n",
    "    def __init__(self, key):\n",
    "        self.key = key\n",
    "        self.columns = []\n",
    "\n",
    "    def fit(self, X, y=None):\n",
    "        self.columns = [col for col in pd.get_dummies(X, prefix=self.key).columns]\n",
    "        return self\n",
    "\n",
    "    def transform(self, X):\n",
    "        X = pd.get_dummies(X, prefix=self.key)\n",
    "        test_columns = [col for col in X.columns]\n",
    "        for col_ in test_columns:\n",
    "            if col_ not in self.columns:\n",
    "                X[col_] = 0\n",
    "        return X[self.columns]"
   ]
  },
  {
   "cell_type": "code",
   "execution_count": 3,
   "id": "749ae750",
   "metadata": {},
   "outputs": [
    {
     "data": {
      "text/plain": [
       "(70000, 13)"
      ]
     },
     "execution_count": 3,
     "metadata": {},
     "output_type": "execute_result"
    }
   ],
   "source": [
    "df = pd.read_csv('./input/train_case2.csv', sep = ';').fillna(' ').sample(frac=1)\n",
    "df.shape"
   ]
  },
  {
   "cell_type": "code",
   "execution_count": 4,
   "id": "373e9e15",
   "metadata": {},
   "outputs": [
    {
     "data": {
      "text/plain": [
       "(70000,)"
      ]
     },
     "execution_count": 4,
     "metadata": {},
     "output_type": "execute_result"
    }
   ],
   "source": [
    "target_inx = 12\n",
    "target = df.iloc[:, -1]\n",
    "target.shape"
   ]
  },
  {
   "cell_type": "code",
   "execution_count": 5,
   "id": "cc4060c4",
   "metadata": {},
   "outputs": [
    {
     "data": {
      "text/plain": [
       "(70000, 12)"
      ]
     },
     "execution_count": 5,
     "metadata": {},
     "output_type": "execute_result"
    }
   ],
   "source": [
    "train = df.iloc[:, :-1]\n",
    "train.shape"
   ]
  },
  {
   "cell_type": "code",
   "execution_count": 6,
   "id": "1a084949",
   "metadata": {},
   "outputs": [],
   "source": [
    "#разделим данные на train/test\n",
    "X_train, X_test, y_train, y_test = train_test_split(train, target, random_state=6)"
   ]
  },
  {
   "cell_type": "code",
   "execution_count": 7,
   "id": "18cabd3c",
   "metadata": {},
   "outputs": [],
   "source": [
    "continuos_cols = ['age', 'height', 'weight', 'ap_hi', 'ap_lo']\n",
    "cat_cols = ['gender', 'cholesterol']\n",
    "base_cols = ['gluc', 'smoke', 'alco', 'active']\n",
    "\n",
    "continuos_transformers = []\n",
    "cat_transformers = []\n",
    "base_transformers = []\n",
    "\n",
    "for cont_col in continuos_cols:\n",
    "    transfomer =  Pipeline([\n",
    "                ('selector', NumberSelector(key=cont_col)),\n",
    "                ('standard', StandardScaler())\n",
    "            ])\n",
    "    continuos_transformers.append((cont_col, transfomer))\n",
    "    \n",
    "for cat_col in cat_cols:\n",
    "    cat_transformer = Pipeline([\n",
    "                ('selector', ColumnSelector(key=cat_col)),\n",
    "                ('ohe', OHEEncoder(key=cat_col))\n",
    "            ])\n",
    "    cat_transformers.append((cat_col, cat_transformer))\n",
    "    \n",
    "for base_col in base_cols:\n",
    "    base_transformer = Pipeline([\n",
    "                ('selector', NumberSelector(key=base_col))\n",
    "            ])\n",
    "    base_transformers.append((base_col, base_transformer))"
   ]
  },
  {
   "cell_type": "code",
   "execution_count": 8,
   "id": "9517b2cb",
   "metadata": {},
   "outputs": [
    {
     "data": {
      "text/plain": [
       "array([[-0.17383452,  0.08328586, -0.63527261, ...,  0.        ,\n",
       "         0.        ,  1.        ],\n",
       "       [ 0.57163995, -1.51274396, -1.25961961, ...,  0.        ,\n",
       "         0.        ,  1.        ],\n",
       "       [-1.67450704,  0.32882891,  0.68279328, ...,  0.        ,\n",
       "         0.        ,  1.        ],\n",
       "       ...,\n",
       "       [ 0.27912225, -1.26720091,  1.1683965 , ...,  0.        ,\n",
       "         0.        ,  1.        ],\n",
       "       [ 1.04404388, -1.02165786,  1.37651217, ...,  0.        ,\n",
       "         0.        ,  1.        ],\n",
       "       [-1.85925506,  1.06545806,  3.45766884, ...,  0.        ,\n",
       "         0.        ,  0.        ]])"
      ]
     },
     "execution_count": 8,
     "metadata": {},
     "output_type": "execute_result"
    }
   ],
   "source": [
    "feats = FeatureUnion(continuos_transformers + cat_transformers + base_transformers)\n",
    "feature_processing = Pipeline([('feats', feats)])\n",
    "\n",
    "feature_processing.fit_transform(X_train)"
   ]
  },
  {
   "cell_type": "code",
   "execution_count": 9,
   "id": "22551cfb",
   "metadata": {
    "scrolled": true
   },
   "outputs": [
    {
     "data": {
      "text/html": [
       "<div>\n",
       "<style scoped>\n",
       "    .dataframe tbody tr th:only-of-type {\n",
       "        vertical-align: middle;\n",
       "    }\n",
       "\n",
       "    .dataframe tbody tr th {\n",
       "        vertical-align: top;\n",
       "    }\n",
       "\n",
       "    .dataframe thead th {\n",
       "        text-align: right;\n",
       "    }\n",
       "</style>\n",
       "<table border=\"1\" class=\"dataframe\">\n",
       "  <thead>\n",
       "    <tr style=\"text-align: right;\">\n",
       "      <th></th>\n",
       "      <th>model_name</th>\n",
       "      <th>model</th>\n",
       "      <th>auc_scores</th>\n",
       "      <th>precision</th>\n",
       "      <th>recall</th>\n",
       "      <th>fscore</th>\n",
       "      <th>cv_score</th>\n",
       "      <th>cv_score_std</th>\n",
       "    </tr>\n",
       "  </thead>\n",
       "  <tbody>\n",
       "    <tr>\n",
       "      <th>0</th>\n",
       "      <td>GradientBoostingRegressor</td>\n",
       "      <td>GradientBoostingRegressor(learning_rate=0.25, ...</td>\n",
       "      <td>NaN</td>\n",
       "      <td>NaN</td>\n",
       "      <td>NaN</td>\n",
       "      <td>NaN</td>\n",
       "      <td>NaN</td>\n",
       "      <td>NaN</td>\n",
       "    </tr>\n",
       "    <tr>\n",
       "      <th>1</th>\n",
       "      <td>RandomForestRegressor</td>\n",
       "      <td>RandomForestRegressor(max_depth=41, min_sample...</td>\n",
       "      <td>NaN</td>\n",
       "      <td>NaN</td>\n",
       "      <td>NaN</td>\n",
       "      <td>NaN</td>\n",
       "      <td>NaN</td>\n",
       "      <td>NaN</td>\n",
       "    </tr>\n",
       "    <tr>\n",
       "      <th>2</th>\n",
       "      <td>ExtraTreesRegressor</td>\n",
       "      <td>ExtraTreesRegressor(bootstrap=True, max_depth=...</td>\n",
       "      <td>NaN</td>\n",
       "      <td>NaN</td>\n",
       "      <td>NaN</td>\n",
       "      <td>NaN</td>\n",
       "      <td>NaN</td>\n",
       "      <td>NaN</td>\n",
       "    </tr>\n",
       "  </tbody>\n",
       "</table>\n",
       "</div>"
      ],
      "text/plain": [
       "                  model_name  \\\n",
       "0  GradientBoostingRegressor   \n",
       "1      RandomForestRegressor   \n",
       "2        ExtraTreesRegressor   \n",
       "\n",
       "                                               model auc_scores precision  \\\n",
       "0  GradientBoostingRegressor(learning_rate=0.25, ...        NaN       NaN   \n",
       "1  RandomForestRegressor(max_depth=41, min_sample...        NaN       NaN   \n",
       "2  ExtraTreesRegressor(bootstrap=True, max_depth=...        NaN       NaN   \n",
       "\n",
       "  recall fscore cv_score cv_score_std  \n",
       "0    NaN    NaN      NaN          NaN  \n",
       "1    NaN    NaN      NaN          NaN  \n",
       "2    NaN    NaN      NaN          NaN  "
      ]
     },
     "execution_count": 9,
     "metadata": {},
     "output_type": "execute_result"
    }
   ],
   "source": [
    "gb_model = GradientBoostingRegressor(loss='huber', \n",
    "                                     learning_rate=0.25, \n",
    "                                     n_estimators=650,  \n",
    "                                     min_samples_leaf=1,\n",
    "                                     min_weight_fraction_leaf=0.12, \n",
    "                                     random_state=23)\n",
    "\n",
    "rf_model = RandomForestRegressor(min_samples_split = 20, \n",
    "                                 max_depth=41,\n",
    "                                 n_estimators=600, \n",
    "                                 min_samples_leaf=2,\n",
    "                                 min_weight_fraction_leaf=0.005, \n",
    "                                 random_state=23)\n",
    "\n",
    "etr_model = ExtraTreesRegressor(n_estimators=40, \n",
    "                                max_depth= 5,\n",
    "                                max_leaf_nodes= 9,\n",
    "                                bootstrap = True,\n",
    "                                random_state=23)\n",
    "# results = pd.dataframe()\n",
    "models = ['GradientBoostingRegressor', 'RandomForestRegressor', 'ExtraTreesRegressor']\n",
    "col = ['model_name',  'model', 'auc_scores', 'precision', 'recall', 'fscore', 'cv_score', 'cv_score_std']\n",
    "\n",
    "# models = [gb_model]\n",
    "df_models = pd.DataFrame(columns=col)\n",
    "df_models['model_name'] = ['GradientBoostingRegressor', 'RandomForestRegressor', 'ExtraTreesRegressor']\n",
    "df_models['model'] = [gb_model, rf_model, etr_model]\n",
    "\n",
    "df_models"
   ]
  },
  {
   "cell_type": "code",
   "execution_count": 10,
   "id": "63715033",
   "metadata": {},
   "outputs": [],
   "source": [
    "b = 1\n",
    "for model in models:\n",
    "    classifier = Pipeline([\n",
    "        ('features',feats),\n",
    "        ('classifier', df_models.loc[df_models['model_name'] == model, 'model'].values[0]),\n",
    "    ])\n",
    "    \n",
    "    cv_scores = cross_val_score(classifier, X_train, y_train, cv=2, scoring='roc_auc')\n",
    "    cv_score = np.mean(cv_scores)\n",
    "    cv_score_std = np.std(cv_scores)\n",
    "    \n",
    "    #обучим пайплайн на всем тренировочном датасете\n",
    "    classifier.fit(X_train, y_train)\n",
    "    y_score = classifier.predict(X_test)\n",
    "    auc_score = roc_auc_score(y_true=y_test, y_score=y_score)\n",
    "    \n",
    "    precision, recall, thresholds = precision_recall_curve(y_test.values, y_score)\n",
    "    fscore = (1 + b ** 2)*(precision * recall) / (b**2*precision + recall)\n",
    "    \n",
    "    ix = np.argmax(fscore)\n",
    "    \n",
    "    df_models.loc[df_models['model_name'] == model, col[2:]] = (auc_score, precision[ix], recall[ix], fscore[ix], cv_score, cv_score_std)   \n"
   ]
  },
  {
   "cell_type": "code",
   "execution_count": 11,
   "id": "b306db76",
   "metadata": {},
   "outputs": [
    {
     "data": {
      "text/html": [
       "<div>\n",
       "<style scoped>\n",
       "    .dataframe tbody tr th:only-of-type {\n",
       "        vertical-align: middle;\n",
       "    }\n",
       "\n",
       "    .dataframe tbody tr th {\n",
       "        vertical-align: top;\n",
       "    }\n",
       "\n",
       "    .dataframe thead th {\n",
       "        text-align: right;\n",
       "    }\n",
       "</style>\n",
       "<table border=\"1\" class=\"dataframe\">\n",
       "  <thead>\n",
       "    <tr style=\"text-align: right;\">\n",
       "      <th></th>\n",
       "      <th>model_name</th>\n",
       "      <th>auc_scores</th>\n",
       "      <th>precision</th>\n",
       "      <th>recall</th>\n",
       "      <th>fscore</th>\n",
       "      <th>cv_score</th>\n",
       "      <th>cv_score_std</th>\n",
       "    </tr>\n",
       "  </thead>\n",
       "  <tbody>\n",
       "    <tr>\n",
       "      <th>0</th>\n",
       "      <td>GradientBoostingRegressor</td>\n",
       "      <td>0.794627</td>\n",
       "      <td>0.661775</td>\n",
       "      <td>0.834023</td>\n",
       "      <td>0.737982</td>\n",
       "      <td>0.793779</td>\n",
       "      <td>0.000986</td>\n",
       "    </tr>\n",
       "    <tr>\n",
       "      <th>1</th>\n",
       "      <td>RandomForestRegressor</td>\n",
       "      <td>0.799203</td>\n",
       "      <td>0.681753</td>\n",
       "      <td>0.813232</td>\n",
       "      <td>0.741711</td>\n",
       "      <td>0.799327</td>\n",
       "      <td>0.001216</td>\n",
       "    </tr>\n",
       "    <tr>\n",
       "      <th>2</th>\n",
       "      <td>ExtraTreesRegressor</td>\n",
       "      <td>0.71661</td>\n",
       "      <td>0.579257</td>\n",
       "      <td>0.904549</td>\n",
       "      <td>0.706246</td>\n",
       "      <td>0.723781</td>\n",
       "      <td>0.003272</td>\n",
       "    </tr>\n",
       "  </tbody>\n",
       "</table>\n",
       "</div>"
      ],
      "text/plain": [
       "                  model_name auc_scores precision    recall    fscore  \\\n",
       "0  GradientBoostingRegressor   0.794627  0.661775  0.834023  0.737982   \n",
       "1      RandomForestRegressor   0.799203  0.681753  0.813232  0.741711   \n",
       "2        ExtraTreesRegressor    0.71661  0.579257  0.904549  0.706246   \n",
       "\n",
       "   cv_score cv_score_std  \n",
       "0  0.793779     0.000986  \n",
       "1  0.799327     0.001216  \n",
       "2  0.723781     0.003272  "
      ]
     },
     "execution_count": 11,
     "metadata": {},
     "output_type": "execute_result"
    }
   ],
   "source": [
    "df_models.drop('model', 1)"
   ]
  },
  {
   "cell_type": "markdown",
   "id": "108c52e0",
   "metadata": {},
   "source": [
    "### Задача 4\n",
    "Сделать выводы о том, какая модель справилась с задачей лучше других"
   ]
  },
  {
   "cell_type": "markdown",
   "id": "91b49547",
   "metadata": {},
   "source": [
    "Модель RandomForestRegressor справилась лучше остальных по большинству показателей уступая конкурентам только по полноте, \n",
    "что говорит большем количестве ошибок второго рода."
   ]
  },
  {
   "cell_type": "markdown",
   "id": "1b09acc6",
   "metadata": {},
   "source": [
    "### Задача 5*\n",
    "Какой график (precision_recall_curve или roc_auc_curve) больше подходит в случае сильного дисбаланса классов? (когда объектов одного из классов намного больше чем другого, например, 1 к 1000).\n",
    "p.s.  \n",
    "В вопросе проще разобраться, если вспомнить оси на графике roc auc curve и рассмотреть такой пример:\n",
    "\n",
    "Имеется 100000 объектов, из которых только 100 - класс \"1\" (99900 - класс \"0\", соответственно).\n",
    "Допустим, у нас две модели:\n",
    "\n",
    "первая помечает 100 объектов как класс 1, но TP = 90\n",
    "вторая помечает 1000 объектов как класс 1, но TP такой же - 90\n",
    "Какая модель лучше и почему? И что позволяет легче сделать вывод - roc_auc_curve или precision_recall_curve?"
   ]
  },
  {
   "cell_type": "code",
   "execution_count": 12,
   "id": "f279129a",
   "metadata": {},
   "outputs": [
    {
     "name": "stdout",
     "output_type": "stream",
     "text": [
      "precision = 0.9, recall = 0.9, TPR = 0.9, FPR = 0.000010\n"
     ]
    }
   ],
   "source": [
    "# первая модель\n",
    "TP = 90\n",
    "FP = 10\n",
    "TN = 999890\n",
    "FN = 10\n",
    "\n",
    "precision = TP / (TP + FP)\n",
    "recall = TP / (TP + FN)\n",
    "\n",
    "TPR = TP / (TP + FN)\n",
    "FPR = FP / (FP + TN)\n",
    "\n",
    "print(f'precision = {precision}, recall = {recall}, TPR = {TPR}, FPR = {FPR:.6f}')"
   ]
  },
  {
   "cell_type": "code",
   "execution_count": 13,
   "id": "e7fd4cfd",
   "metadata": {},
   "outputs": [
    {
     "name": "stdout",
     "output_type": "stream",
     "text": [
      "precision = 0.09, recall = 0.9, TPR = 0.9, FPR = 0.000910\n"
     ]
    }
   ],
   "source": [
    "# первая модель\n",
    "TP = 90\n",
    "FP = 910\n",
    "TN = 998990\n",
    "FN = 10\n",
    "\n",
    "precision = TP / (TP + FP)\n",
    "recall = TP / (TP + FN)\n",
    "\n",
    "TPR = TP / (TP + FN)\n",
    "FPR = FP / (FP + TN)\n",
    "print(f'precision = {precision}, recall = {recall}, TPR = {TPR}, FPR = {FPR:.6f}')"
   ]
  },
  {
   "cell_type": "markdown",
   "id": "9166aa84",
   "metadata": {},
   "source": [
    "Как можно заметить использование roc_auc_curve на данных с дисбалансом классов не покажет разницы между различными моделями.\n",
    "В следствии чего на несбалансированных данных предпочтительней использовать precision_recall_curve.\n",
    "\n",
    "В данном примере лучше будет использовать первую модель так как у нее выше точность, а полнота в обеих моделях одинакова.\n",
    "На мой взгляд  precision_recall_curve интуитивно понятней."
   ]
  }
 ],
 "metadata": {
  "kernelspec": {
   "display_name": "Python 3",
   "language": "python",
   "name": "python3"
  },
  "language_info": {
   "codemirror_mode": {
    "name": "ipython",
    "version": 3
   },
   "file_extension": ".py",
   "mimetype": "text/x-python",
   "name": "python",
   "nbconvert_exporter": "python",
   "pygments_lexer": "ipython3",
   "version": "3.8.6"
  },
  "varInspector": {
   "cols": {
    "lenName": 16,
    "lenType": 16,
    "lenVar": 40
   },
   "kernels_config": {
    "python": {
     "delete_cmd_postfix": "",
     "delete_cmd_prefix": "del ",
     "library": "var_list.py",
     "varRefreshCmd": "print(var_dic_list())"
    },
    "r": {
     "delete_cmd_postfix": ") ",
     "delete_cmd_prefix": "rm(",
     "library": "var_list.r",
     "varRefreshCmd": "cat(var_dic_list()) "
    }
   },
   "types_to_exclude": [
    "module",
    "function",
    "builtin_function_or_method",
    "instance",
    "_Feature"
   ],
   "window_display": false
  }
 },
 "nbformat": 4,
 "nbformat_minor": 5
}
